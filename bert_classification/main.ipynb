{
 "cells": [
  {
   "cell_type": "code",
   "execution_count": null,
   "metadata": {
    "colab": {
     "base_uri": "https://localhost:8080/"
    },
    "executionInfo": {
     "elapsed": 169208,
     "status": "ok",
     "timestamp": 1743675988257,
     "user": {
      "displayName": "forML",
      "userId": "00184597541824520416"
     },
     "user_tz": -540
    },
    "id": "VtV0VM7ThxqX",
    "outputId": "7fc04d9e-1bb4-4847-b333-e57e2c924e0d"
   },
   "outputs": [],
   "source": [
    "# HuggingFace関連のライブラリー\n",
    "!pip install transformers[torch]\n",
    "!pip install datasets\n",
    "!pip install huggingface_hub\n",
    "# トークナイザー用に日本語対応パッケージ\n",
    "!pip install ipadic\n",
    "!pip install fugashi\n",
    "!pip install unidic_lite\n",
    "# その他\n",
    "# !pip install wandb  # transformersライブラリーのTrainerクラスのtrainメソッドを行う時のエラー対策\n",
    "!pip install torchinfo"
   ]
  },
  {
   "cell_type": "code",
   "execution_count": null,
   "metadata": {
    "executionInfo": {
     "elapsed": 13667,
     "status": "ok",
     "timestamp": 1743676001929,
     "user": {
      "displayName": "forML",
      "userId": "00184597541824520416"
     },
     "user_tz": -540
    },
    "id": "trhNoRxIiFs2"
   },
   "outputs": [],
   "source": [
    "import numpy as np\n",
    "import pandas as pd\n",
    "import pprint\n",
    "import torch\n",
    "import torchinfo\n",
    "import transformers\n",
    "import datasets\n",
    "from sklearn import metrics\n",
    "from google.colab import userdata\n",
    "from huggingface_hub import login"
   ]
  },
  {
   "cell_type": "code",
   "execution_count": null,
   "metadata": {
    "colab": {
     "base_uri": "https://localhost:8080/"
    },
    "executionInfo": {
     "elapsed": 11,
     "status": "ok",
     "timestamp": 1743676001943,
     "user": {
      "displayName": "forML",
      "userId": "00184597541824520416"
     },
     "user_tz": -540
    },
    "id": "UsbNDcc1VpLW",
    "outputId": "9cc69811-be74-473a-9a18-5a82322e30dc"
   },
   "outputs": [],
   "source": [
    "print(\"numpy：\", np.__version__)\n",
    "print(\"pandas：\", pd.__version__)\n",
    "print(\"torch：\", torch.__version__)\n",
    "print(\"transformers：\", transformers.__version__)\n",
    "print(\"datasets：\", datasets.__version__)"
   ]
  },
  {
   "cell_type": "code",
   "execution_count": null,
   "metadata": {
    "executionInfo": {
     "elapsed": 7130,
     "status": "ok",
     "timestamp": 1743676009194,
     "user": {
      "displayName": "forML",
      "userId": "00184597541824520416"
     },
     "user_tz": -540
    },
    "id": "Aag4VmOUfyJK"
   },
   "outputs": [],
   "source": [
    "DEVICE = torch.device(\"cuda:0\" if torch.cuda.is_available() else \"cpu\")\n",
    "HuggingFace_API_KEY = userdata.get(\"HuggingFace_API_KEY\")"
   ]
  },
  {
   "cell_type": "markdown",
   "metadata": {
    "id": "2f5JINcZaQ8Z"
   },
   "source": [
    "**テキスト分類を学習するための学習データを収集**"
   ]
  },
  {
   "cell_type": "code",
   "execution_count": null,
   "metadata": {
    "colab": {
     "base_uri": "https://localhost:8080/",
     "height": 397,
     "referenced_widgets": [
      "6e6898e856584c788295e1ce09662613",
      "87aa28e2e3924ba993ad30d0f239d981",
      "7055e867bef54157be985421a510ad89",
      "ca68964173a44c66b750264f8ed5421e",
      "6d1682c273b84789a6fcbee2671b355e",
      "80570de1421a4e5bae5a2ffc6b1dc5a8",
      "4c4e2166740b464a93b2932c35a2a4ce",
      "98dd64f989e14719912d2f9dddd4fe22",
      "b86461b3003e421dbeb73e59c1cbc713",
      "3deef1ca792948e887bc79368a98e8d9",
      "a6849ee26b6548d3a055ccb14058e9d5",
      "7ca9264c14db45d8aaf8074e2f5956b8",
      "fe217f96f47c4e84894f2f5085a1b225",
      "c2941277ffe34a1b80859c13d7015e1f",
      "a972a8d2066e4f27bfd81de384ec37c3",
      "f4155a9c7eb444bb948cf91a73d51b4e",
      "9fa178630d75417cad48ae7acadb77bb",
      "a5c10db744d0457cb3f2b62577ebd451",
      "e8f1fd2bf30a4251af0f5bc190ecf83d",
      "8560887b83a641e3b3e96a6856f87a63",
      "74425ad246e14704ae6084a49b2f4b28",
      "85a9bd9673dd4aa191a8381f295a6558",
      "cf09bb2d89494ddbb22f7363a3225ade",
      "69bf526b1f39417596ff9b8b58c0f34c",
      "ce49e97cf1a948f592c2d3b1a488254c",
      "d866fbcbb2f34a77ba32bf7ec587411c",
      "d4a2018dd8ab4dcab688d2dcd4d30716",
      "db0233fa70f842a48aedce39fc76fc15",
      "cd26e8fba2e5452c9e08567c700827a1",
      "50f9e3fa1b4147338b422247fc918859",
      "ff9b720d9d21492299f3812a81e88830",
      "111e3ada53754f659826409f9d13f53b",
      "057d771cf99c4bd8a070a4635cab57d0",
      "86fbc11a48754cdf8dbade826161c4f2",
      "3e5d578570eb461c98bd441a1c79e0d1",
      "c98c526751e44707ae7f7f9fea2fba8d",
      "e8d1d0b125914c1fa98f34442f38f16a",
      "fae62ba3f4104e7d96ab3788888a2e38",
      "ddb512413fdb4039846486cb1e9a2f52",
      "77fa5d0e57e7452982c94bdb2d93dc95",
      "008e4619a55946c0987b2b086ca7e8f3",
      "bba2f1b596cd46258b51a39086954c02",
      "8111acbfe62447a484937fffb9e83cbe",
      "fd1103b38a1340298471d5e8418e77b0",
      "2672378287ab4de1a16a6b5028d8837e",
      "9aff4537727649fba25d1a7bace53b71",
      "9158004c3ec24330998bf5b2832ade4e",
      "f10915d9bc694f848e87b92cd52c3ec4",
      "a99e3db4ab724eaab55167b6bbb63000",
      "409e0049124f4bcc86975b6ef9b01591",
      "60d50bfa06ba4d23b33e29c685dd6263",
      "3a90eeab690446fca0fe7f6541499473",
      "3be6a0f2de55433f96786a7a691ea3a2",
      "36fe1d802d7f417c90daba5d7640b4cb",
      "33f22763f91341bfba264c816f9c25e1",
      "d4da45452703465eb6518efbcd481d34",
      "3b5a920185344356a8697bfb5f8db49c",
      "a0201f612b914a65b7a420c23f6e8fbb",
      "c75d4a26381743d699b6c24647591ef2",
      "ecde38e792144ed98f30742135a14f3f",
      "38c4e493501e4e678890a392ee6e1032",
      "65144aa069fe489fa8f6c3c31d8ad052",
      "b0cda80c05c4445a86434323512304f2",
      "216997dc0ddd4fbb83cd5a79bea8cd9c",
      "9cb8ec6b005148e28a9917f47e04d2c9",
      "b2a132f9b0074a66a36f570e27cbf58c",
      "424bb428722e4c77ba2251921b34c535",
      "ac02240aeb334d55880e94b89164206f",
      "e667890b59c74b36ab29c0c4dd8713af",
      "22ff3141ca8140f088d934dc00c1d609",
      "42dbde2fdea74b0c81e996b27cdad306",
      "c87c35c7b6f544598bd5122459e9c3a4",
      "932928260b3a4d49a93114a6bf3de1c7",
      "3fd7e1e247c34352a4a19edebd0f54b7",
      "a7b4f9cf86ff4fd4b08ce13c4d37f130",
      "01a70bb7aa584583a29446728db0db52",
      "855a04ba3d794d32a3a745028d8a33ec",
      "871c3b47f1544d148d068e1a88205705",
      "f9ae74047c654d2f8d2f91e3067161b2",
      "4657d21d8f9a40d99d4605bcca02d573",
      "6f35768a33df4816a170b964108e2a53",
      "0601289c3529441d85cd2440a9466fe9",
      "bca1a7e4a65843019de22c4b03504a62",
      "70447a5b561e4554b903b48cf0a3b942",
      "9e41f5eb81844e0d9154ee0d62f44ca3",
      "751775a776c14b32a0039da46a329eae",
      "cec568ef9bb546139bfb47c81379a020",
      "8ff55f055ebe4c1096a9d34b3502638e"
     ]
    },
    "executionInfo": {
     "elapsed": 6466,
     "status": "ok",
     "timestamp": 1743676015662,
     "user": {
      "displayName": "forML",
      "userId": "00184597541824520416"
     },
     "user_tz": -540
    },
    "id": "MYcodwe0Qrjd",
    "outputId": "e5b93a79-b03b-4860-e80b-912079e98d85"
   },
   "outputs": [],
   "source": [
    "# ネタになるデータをHuggingFaceから取得\n",
    "dataset_dict = datasets.load_dataset(\"tyqiangz/multilingual-sentiments\", \"japanese\")"
   ]
  },
  {
   "cell_type": "code",
   "execution_count": null,
   "metadata": {
    "colab": {
     "base_uri": "https://localhost:8080/"
    },
    "executionInfo": {
     "elapsed": 64,
     "status": "ok",
     "timestamp": 1743676015728,
     "user": {
      "displayName": "forML",
      "userId": "00184597541824520416"
     },
     "user_tz": -540
    },
    "id": "iW9hpqZYvxtC",
    "outputId": "79dc4dcb-67b6-4f90-ec2b-0ebd8de3b89d"
   },
   "outputs": [],
   "source": [
    "# 取得したデータと、そのタイプを確認\n",
    "print(dataset_dict)\n",
    "print(type(dataset_dict))\n",
    "# 取得したデータの項目を確認(trainを対象にして確認)\n",
    "print(\"データの項目\")\n",
    "pprint.pprint(dataset_dict[\"train\"].features)\n",
    "# DatasetDictのtrainのデータの中身を2つ確認\n",
    "print(\"データの中身\")\n",
    "pprint.pprint(dataset_dict[\"train\"][0:2])\n",
    "# 取得したデータ量が多いので、用いるデータは全体の1%だけにする\n",
    "dataset_dict[\"train\"] = dataset_dict[\"train\"].select(indices=range(dataset_dict[\"train\"].num_rows//1))\n",
    "dataset_dict[\"validation\"] = dataset_dict[\"validation\"].select(indices=range(dataset_dict[\"validation\"].num_rows//1))\n",
    "dataset_dict[\"test\"] = dataset_dict[\"test\"].select(indices=range(dataset_dict[\"test\"].num_rows//1))\n",
    "# データ量を減らしたdataset_dictを確認\n",
    "print(dataset_dict)"
   ]
  },
  {
   "cell_type": "markdown",
   "metadata": {
    "id": "DGebSoaU61aR"
   },
   "source": [
    "DatasetDictをDataFrameに変換してcsvファイルで保存する(後続処理でデータをシャッフルするため)"
   ]
  },
  {
   "cell_type": "code",
   "execution_count": null,
   "metadata": {
    "colab": {
     "base_uri": "https://localhost:8080/",
     "height": 130,
     "referenced_widgets": [
      "805795014aa642a1b131477bfa96901d",
      "6b02eafde38b40c88bf911394939f8ef",
      "3feefdee2e2945f8991a5adee91fc80b",
      "e76a442dfc9c44d48dae460385fdc079",
      "1b2f32f263744a3bb88da4b4b678b084",
      "b8003f6ccc6f4b2e83d7899c33df96e8",
      "e280e5097ad94139979374ced6a2dc2d",
      "e4f127b5ecb249b5b6e9d6046895ed6c",
      "6f18a4a3284d4a74b7edb76048c9b323",
      "940749033d1842a9a00a7dcde0bb330c",
      "c36beefafd994f99933a3fb74df1aeaa",
      "81d00d9ecc0b4a95bd0eefc6437281fa",
      "a5cff237087f43549529034fee4a7ac3",
      "287b46265349466ab67409d21f8145c7",
      "4893f7cf2d4a41d8a716b56bd9a5b311",
      "5b976e86668f4793bfaafdcb5eae7ee9",
      "6a45773726ca4d10a1be68d38a962ea9",
      "ae64d30354a24f39aff36e9a3c3434ed",
      "7e271ca2cbda41779784756dee3a7606",
      "3b4061fdc7f54c6fa35362482be47197",
      "cb0e4de3057040cb95a55f194188f2ba",
      "13437e740fbc4d07862929c719cfe276",
      "a981e415dcbe4fea8770b77f78bcfc87",
      "21d2a6c59cf449a490ddbad74de95100",
      "3547b24a9c40468d9033fdf2f23276f9",
      "c631e2f18a5b42b7aa6b36136b0c9c2f",
      "cd53873cb2a8427fa8d3f11e4b79e899",
      "a64b0f29c2d2435b9dfc7dc77af9e95e",
      "4f29dae653b24d65a4ebc032b5f320c1",
      "e515775ac7a44e97bd53c4f721389f57",
      "f20925750ada48bb929636031a3bf098",
      "9eb9684ebb494a4ebc8f541c0d864f86",
      "b2ab5b616b2c44fa85319c28ebc02b33"
     ]
    },
    "executionInfo": {
     "elapsed": 3448,
     "status": "ok",
     "timestamp": 1743676019179,
     "user": {
      "displayName": "forML",
      "userId": "00184597541824520416"
     },
     "user_tz": -540
    },
    "id": "DPlYBD28v-1-",
    "outputId": "b388983b-f0c4-455c-bc0e-3e3b392437fe"
   },
   "outputs": [],
   "source": [
    "# DatasetDictをDataFrameに変換する準備\n",
    "dataset_dict.set_format(type=\"pandas\")\n",
    "# それぞれtrainとvalidationとtestをcsvファイルに保存\n",
    "dataset_dict[\"train\"].to_csv(path_or_buf=\"./hugging_face_dataset_train.csv\",\n",
    "                             index=None)\n",
    "dataset_dict[\"validation\"].to_csv(path_or_buf=\"./hugging_face_dataset_validation.csv\",\n",
    "                                  index=None)\n",
    "dataset_dict[\"test\"].to_csv(path_or_buf=\"./hugging_face_dataset_test.csv\",\n",
    "                            index=None)\n",
    "# データのタイプをDatasetDictに戻す\n",
    "# hugging_face_dataset.reset_format()"
   ]
  },
  {
   "cell_type": "markdown",
   "metadata": {
    "id": "TGuayeTP9xNt"
   },
   "source": [
    "csvファイルからDataFrameにしてデータをシャッフル後にDatasetDictにする"
   ]
  },
  {
   "cell_type": "code",
   "execution_count": null,
   "metadata": {
    "colab": {
     "base_uri": "https://localhost:8080/",
     "height": 495,
     "referenced_widgets": [
      "c098b64b4df84b47a0387e88bb5f6fcf",
      "f0033456b779482da9fccc64454cf508",
      "52a57ffe725a47b6ba783225e69ff897",
      "c65b5d4773224082822a7ea4282ac608",
      "e5e98f445512407c9b8e7f0bb363d214",
      "f3fd662fca6e468c851ef88e23ce1d47",
      "31c976734d5a4b478c0b79a4be89dc38",
      "8397b57c20a04cbeb1bed78b9ef1ce44",
      "c560dd2825e846ff8a836752411367b3",
      "d1adccfcc557476ea24fd03959298cd2",
      "25c0ce8ac88d4ce39416866411fa6cc5",
      "5d51962a5be54c87876bd110fc314402",
      "225964133f884613b9ae21e2f06e7564",
      "1054a57afb424070b28bbb65a487c1d7",
      "c3a20af0661f48d4b1569bbc77851e01",
      "f2e792cc1b6b48798b6ef10a0672be79",
      "1d6ea8f7fd944b3a9816efc1aaa42872",
      "d8795b40596d4e0da6f764f71687af38",
      "b7809235b0dc4b8b82c707704945aeee",
      "aa3de8c273e9445b8fbe33ff114d74c2",
      "799c4a58925249fc803d24bfa65246fa",
      "568b04f4c2cb4141bcf5c23f257d851a",
      "ef664381ad514f4ab9e1d405c8bff03f",
      "1fa34166fd894b68ad32f536fc72c49b",
      "97bf0e329e5843e5a52bebbb78d14af6",
      "ab3b545706774957bb499effadff3f57",
      "a2ba95bb4eb143dc99e0aca1466c159c",
      "a8fc645928324792a8226b7c565b1760",
      "65ba28ed23dd4b0ebd19b19d61297ce6",
      "1214ff10053442b4825d573842e859a6",
      "6982ed7b24bd409c9a15cd8a7aff29be",
      "7473865f87b84c0e9f855b23a49041f3",
      "20cd9525079949fb847c300404372ece"
     ]
    },
    "executionInfo": {
     "elapsed": 3504,
     "status": "ok",
     "timestamp": 1743676022781,
     "user": {
      "displayName": "forML",
      "userId": "00184597541824520416"
     },
     "user_tz": -540
    },
    "id": "A8y-i6TVWo8O",
    "outputId": "ed72f1ef-fc1a-4280-8c90-03e5ea0c25cf"
   },
   "outputs": [],
   "source": [
    "# csvファイルをDataFrameとして読み込み\n",
    "train_df = pd.read_csv(filepath_or_buffer=\"./hugging_face_dataset_train.csv\",\n",
    "                       encoding=\"utf-8\",\n",
    "                       index_col=False)\n",
    "validation_df = pd.read_csv(filepath_or_buffer=\"./hugging_face_dataset_validation.csv\",\n",
    "                            encoding=\"utf-8\",\n",
    "                            index_col=False)\n",
    "test_df = pd.read_csv(filepath_or_buffer=\"./hugging_face_dataset_test.csv\",\n",
    "                      encoding=\"utf-8\",\n",
    "                      index_col=False)\n",
    "# DataFrameの中身をシャッフルする\n",
    "train_df = train_df.sample(frac=1).reset_index(drop=True)\n",
    "validation_df = validation_df.sample(frac=1).reset_index(drop=True)\n",
    "test_df = test_df.sample(frac=1).reset_index(drop=True)\n",
    "# データ数を全体の5%のみにする\n",
    "train_df = train_df.iloc[0:len(train_df)//20, :]\n",
    "validation_df = validation_df.iloc[0:len(validation_df)//20, :]\n",
    "test_df = test_df.iloc[0:len(test_df)//20, :]\n",
    "# 事前学習済みBERTモデルで使えるようにDataFrameをDatasetへ変換\n",
    "train_ds = datasets.Dataset.from_pandas(df=train_df)\n",
    "validation_ds = datasets.Dataset.from_pandas(df=validation_df)\n",
    "test_ds = datasets.Dataset.from_pandas(df=test_df)\n",
    "# 変換したDatasetのlabel(正解ラベル)はint64の0,1,2になっているので、正解ラベルとしての0,1,2になるようにint64をClassLabelへ変換\n",
    "class_labels = datasets.ClassLabel(num_classes=3,\n",
    "                                   names=[\"positive\", \"neutral\", \"negative\"])\n",
    "train_ds = train_ds.cast_column(column=\"label\",\n",
    "                                feature=class_labels)\n",
    "validation_ds = validation_ds.cast_column(column=\"label\",\n",
    "                                          feature=class_labels)\n",
    "test_ds = test_ds.cast_column(column=\"label\",\n",
    "                              feature=class_labels)\n",
    "# 各DatasetをDatasetDictで纏める\n",
    "dataset_dict_from_csv = datasets.DatasetDict({\"train\": train_ds,\n",
    "                                              \"validation\": validation_ds,\n",
    "                                              \"test\": test_ds})\n",
    "# DatasetDictを確認\n",
    "print(dataset_dict_from_csv)\n",
    "print(type(dataset_dict_from_csv))\n",
    "# DatasetDictのデータの項目を確認(trainを対象にして確認)\n",
    "pprint.pprint(dataset_dict_from_csv[\"train\"].features)\n",
    "# DatasetDictのtrainのデータの中身を2つ確認\n",
    "pprint.pprint(dataset_dict_from_csv[\"train\"][0:2])"
   ]
  },
  {
   "cell_type": "markdown",
   "metadata": {
    "id": "0B42z45ftXlU"
   },
   "source": [
    "**東北大BERTモデルで使われているトークナイザーを取得**"
   ]
  },
  {
   "cell_type": "code",
   "execution_count": null,
   "metadata": {
    "colab": {
     "base_uri": "https://localhost:8080/",
     "height": 1000,
     "referenced_widgets": [
      "d1677a20e39b46d185ea3e7336402d36",
      "e66d594abff04d4dbf4ad7969b83d86b",
      "b51de9e3e9fb4950afc8e1f95ff1c01f",
      "e6ca5a0f34bb42ce8ea204d549d94a85",
      "4c11bfa478a54f748f800ea80b3b21f2",
      "b8470e10c66e4fd788370a778b299775",
      "1d7e75613c2d4aed9c702e9e3ee375f3",
      "d98a0ea089e749ea9245a5ee35122d46",
      "95a1bc03b8bd45f7b5b8993f24f33edc",
      "d0fbc53cc6c844d7a67f0c4f88ae7053",
      "a75adf739bf74e0b8fc19b8b548a54f4",
      "2d3ebd216d5544a58f7f822d3e863561",
      "6bb519e55e4b4bc08672a7ed3bcfe790",
      "7d576fa738f24667bef2ec7973e4ed12",
      "a042d776346b4401b5224467bd5bb5b3",
      "9463f5e737a7430f936568c4da7ceb84",
      "4f1818c2430546a794b7157a2e81c268",
      "b88d602f55464178b771914207e367d1",
      "192c1866d9cb4bc0b80f17d77243ff15",
      "2b109d2abb5f41b1a048f7961b160cef",
      "92ede9a983494c17b02683e1d9b29a31",
      "1a5df0b08d68499da3a2438c5e477716",
      "1a22812ccff84bac826a58f4551d22fe",
      "65f59ca439dd4074af48901c252f2fe5",
      "40e506fdd18f43c990e3930913db1366",
      "8fc2bc096c9c4a959adc956bc1f54817",
      "0a055d1632924c7193c163805b1b386e",
      "66ef53cd8ebd441194d0cad3cdc995f3",
      "0d3725963b3b4052b4976eac70653f28",
      "840a6815f44b410c8463bb827b7c5200",
      "74638b2c84a4468c90d4ca51994ff6c7",
      "410d2c6c25e84e9e922793b89f7b8e39",
      "af4ad33db6f34f9db239ff3cc8cbaba1"
     ]
    },
    "executionInfo": {
     "elapsed": 29748,
     "status": "ok",
     "timestamp": 1743676052531,
     "user": {
      "displayName": "forML",
      "userId": "00184597541824520416"
     },
     "user_tz": -540
    },
    "id": "rF7_925oiJAG",
    "outputId": "fc39aa86-4170-4f97-a0ad-a4a3e54e37e9"
   },
   "outputs": [],
   "source": [
    "# 東北大BERTモデルのチェックポイント名\n",
    "model_checkpoint = \"cl-tohoku/bert-base-japanese-whole-word-masking\"\n",
    "# 東北大の事前学習済みBERTモデルのトークナイザーを取得\n",
    "tokenizer = transformers.AutoTokenizer.from_pretrained(pretrained_model_name_or_path=model_checkpoint)\n",
    "# 使っているトークナイザーの単語toIDデータ\n",
    "pprint.pprint(tokenizer.get_vocab())"
   ]
  },
  {
   "cell_type": "code",
   "execution_count": null,
   "metadata": {
    "executionInfo": {
     "elapsed": 3,
     "status": "ok",
     "timestamp": 1743676052545,
     "user": {
      "displayName": "forML",
      "userId": "00184597541824520416"
     },
     "user_tz": -540
    },
    "id": "FQMEZdtob1PC"
   },
   "outputs": [],
   "source": [
    "# 学習データのDatasetDictをトークン化する際に使う関数\n",
    "def tokenize_datasetdict(batch):\n",
    "    texts = [str(text) for text in batch[\"text\"] if text is not None]  # text input must be of type str (single example), List[str] (batch or single pretokenized example) or List[List[str]を防ぐため\n",
    "    print(type(texts), texts, len(texts), type(texts[0]), texts[0], sep=\"\\n\")\n",
    "    return tokenizer(texts, padding=True, truncation=True, add_special_tokens=True, return_tensors=\"pt\")"
   ]
  },
  {
   "cell_type": "code",
   "execution_count": null,
   "metadata": {
    "colab": {
     "base_uri": "https://localhost:8080/",
     "height": 428,
     "referenced_widgets": [
      "e9c315164e5640189eacf18b6b024561",
      "e4237c4a1fd04bb4adae6c11f877290b",
      "1ae950816b88401dbbc1ddc686b55687",
      "d2f6bdb0884a4a1da3aae67943c4f5e7",
      "2123373dcde04fc58a65fa77b16cbe4a",
      "45a1e824a23941c38317ed8a2703c191",
      "de9fbc8cb9a346658fdc21b26587dfa4",
      "0a0fa481a5ea465faa8004ffbd86abdb",
      "dd81ef86060046af9d882cb2913cbbe5",
      "0f36ac6cd8ba4168956d4a2056858358",
      "43fe6614987243c2bac4114a949ea384",
      "ac2323e2015f4d1fb9d55a2639548dd8",
      "2d9312dc79cd4a82a13c558f3a2bcda6",
      "fdc9c22995c04e4881eba89b7d06c6a6",
      "00e627ff059e4cfa9592ac90215fb147",
      "2dade484428249bf865cb876e047713e",
      "aca0c8dbd35e4797af13754d055fb060",
      "1616b095e30c4bd18b93d7f4a457412a",
      "5e2f1be9c1f146a08a1bfbc84f947da6",
      "657416f2c74144f0b1e00d1fb888b606",
      "42b0c308d5174504a6d47ba53059310f",
      "7a85370cc8014a9d9880f88dc6161d74",
      "b67a5cf557744de084fe8ca945dd0846",
      "2ba98cae9de64e11bfd53bcb0c7a4619",
      "3c3cfce4966442d792e4fa23fc809c81",
      "c4970e7bbb494728acbc89a6c88c1382",
      "88fc8327202848bb98a60433cb57b4e4",
      "386071b3c4b64bb598d927a83aea91e3",
      "d6bae032508441608b1f6025146fe508",
      "e016f2f826284ad7b21723f47ec02e16",
      "48f865e4d1664957a5f26ba59e2d76c7",
      "416fd7d17da04fb29427cfd3e07ff199",
      "7ee6be961ad64424b078fe2c60605d50"
     ]
    },
    "executionInfo": {
     "elapsed": 23952,
     "status": "ok",
     "timestamp": 1743676076499,
     "user": {
      "displayName": "forML",
      "userId": "00184597541824520416"
     },
     "user_tz": -540
    },
    "id": "BYdzjuLOcyaH",
    "outputId": "2063f87b-895e-4af3-9776-0d8fff484f9b"
   },
   "outputs": [],
   "source": [
    "# 学習データのDatasetDictをトークン化(map関数は、pandasのapply関数みたいなイメージ)\n",
    "tokenized_dataset_dict = dataset_dict_from_csv.map(function=tokenize_datasetdict,\n",
    "                                                   batched=True,\n",
    "                                                   batch_size=None)"
   ]
  },
  {
   "cell_type": "code",
   "execution_count": null,
   "metadata": {
    "colab": {
     "base_uri": "https://localhost:8080/"
    },
    "executionInfo": {
     "elapsed": 11360,
     "status": "ok",
     "timestamp": 1743676087862,
     "user": {
      "displayName": "forML",
      "userId": "00184597541824520416"
     },
     "user_tz": -540
    },
    "id": "22DXM9wWMjA3",
    "outputId": "a0d2a64f-15ed-4914-ba9c-da1c300abdaa"
   },
   "outputs": [],
   "source": [
    "# トークン化した学習データのDatasetDictを確認\n",
    "print(tokenized_dataset_dict)\n",
    "for feature in tokenized_dataset_dict[\"train\"].features.keys():\n",
    "    print(\"データ項目：{a}\".format(a=feature))\n",
    "    print(tokenized_dataset_dict[\"train\"][feature][0])\n",
    "ids_to_tokens = tokenizer.convert_ids_to_tokens(tokenized_dataset_dict[\"train\"][\"input_ids\"][0])\n",
    "print(\"データ項目：token\")\n",
    "print(ids_to_tokens)"
   ]
  },
  {
   "cell_type": "markdown",
   "metadata": {
    "id": "n8AFl65PaGL8"
   },
   "source": [
    "**東北大BERTモデルを取得**"
   ]
  },
  {
   "cell_type": "code",
   "execution_count": null,
   "metadata": {
    "colab": {
     "base_uri": "https://localhost:8080/",
     "height": 104,
     "referenced_widgets": [
      "6fead126be6a4787acc2dd012c640049",
      "edaa7209d57f40aea17ce676d66909c5",
      "969b76028c3341ca91798d7e415421ca",
      "b773c7f38c3f4a87a01269e12c4ceec5",
      "ecd41319de4d43e6b601f531e35988cd",
      "44b3fcdf09c8431ba01517882c3ba181",
      "f194c73a3e53430e8a94edae2366e4a4",
      "a04853f7d9874b4abbe61d4715a5b736",
      "a78c577f5a834c85b26793b994665ea3",
      "f8ba762ef92f4c3e86284fdc282f36aa",
      "e52aac39c8244e15bd49c6b2ae7ba110"
     ]
    },
    "executionInfo": {
     "elapsed": 12939,
     "status": "ok",
     "timestamp": 1743676100800,
     "user": {
      "displayName": "forML",
      "userId": "00184597541824520416"
     },
     "user_tz": -540
    },
    "id": "n7eVRUuDe-3x",
    "outputId": "72e1c8c6-8fbe-4f95-9f33-33a47026868e"
   },
   "outputs": [],
   "source": [
    "# 東北大BERTモデルのチェックポイント名\n",
    "model_checkpoint = \"cl-tohoku/bert-base-japanese-whole-word-masking\"\n",
    "# 出力層のパーセプトロン数を、データのラベル数の形にして東北大BERTモデルを取得\n",
    "n_class = tokenized_dataset_dict[\"train\"].features[\"label\"].num_classes\n",
    "nn_model = transformers.AutoModelForSequenceClassification.from_pretrained(pretrained_model_name_or_path=model_checkpoint,\n",
    "                                                                           num_labels=n_class).to(DEVICE)"
   ]
  },
  {
   "cell_type": "code",
   "execution_count": null,
   "metadata": {
    "colab": {
     "base_uri": "https://localhost:8080/"
    },
    "executionInfo": {
     "elapsed": 999,
     "status": "ok",
     "timestamp": 1743676101800,
     "user": {
      "displayName": "forML",
      "userId": "00184597541824520416"
     },
     "user_tz": -540
    },
    "id": "cr7Z_8w7QzSR",
    "outputId": "a59510b1-3fe4-410d-f87f-943591802b0c"
   },
   "outputs": [],
   "source": [
    "torchinfo.summary(nn_model,\n",
    "                  input_size=(16, 512),\n",
    "                  dtypes=[torch.int])\n",
    "# dtypes(入力データの型)はデフォルトでfloatだけれど、自然言語処理では入力データのトークンはintなので、intを指定\n",
    "# (参考URL：https://cocoinit23.com/huggingface-runtimeerror-failed-to-run-torchinfo/)"
   ]
  },
  {
   "cell_type": "markdown",
   "metadata": {
    "id": "b0xDeh77H8zM"
   },
   "source": [
    "**FineTuningを行う前での文章分類**"
   ]
  },
  {
   "cell_type": "code",
   "execution_count": null,
   "metadata": {
    "colab": {
     "base_uri": "https://localhost:8080/"
    },
    "executionInfo": {
     "elapsed": 2624,
     "status": "ok",
     "timestamp": 1743676104426,
     "user": {
      "displayName": "forML",
      "userId": "00184597541824520416"
     },
     "user_tz": -540
    },
    "id": "m-cU6ZyQHx1y",
    "outputId": "826ea497-3b55-4d2a-b81e-1eadf1a670d8"
   },
   "outputs": [],
   "source": [
    "# 推論(テストデータを対象にして予測)\n",
    "test_token_tensor = torch.LongTensor(np.array(tokenized_dataset_dict[\"test\"][\"input_ids\"])).to(DEVICE)\n",
    "test_attention_mask_tensor = torch.LongTensor(np.array(tokenized_dataset_dict[\"test\"][\"attention_mask\"])).to(DEVICE)\n",
    "with torch.no_grad():\n",
    "    # https://huggingface.co/docs/transformers/v4.50.0/ja/model_doc/bert#transformers.BertForSequenceClassification.forward\n",
    "    test_output_before = nn_model(input_ids=test_token_tensor,\n",
    "                                  attention_mask=test_attention_mask_tensor)\n",
    "test_output_before_array = test_output_before.logits.to(\"cpu\").detach().numpy()  # 出力結果の属性logitsに行列もしくはテンソルがあって、それをcpu処理にして、gradを外して、numpyにする\n",
    "test_predict_before = np.argmax(a=test_output_before_array,\n",
    "                                axis=1)  # 予測したラベル\n",
    "print(\"推論結果：\", test_predict_before)\n",
    "test_answer = np.array(tokenized_dataset_dict[\"test\"][\"label\"])  # 正解ラベル\n",
    "print(\"正解：\", test_answer)\n",
    "test_accuracy_result_before = metrics.accuracy_score(y_true=test_answer,\n",
    "                                                     y_pred=test_predict_before)\n",
    "print(\"Accuracy：\", test_accuracy_result_before)"
   ]
  },
  {
   "cell_type": "markdown",
   "metadata": {
    "id": "yHOQAG2UIfgS"
   },
   "source": [
    "**FineTuning**"
   ]
  },
  {
   "cell_type": "code",
   "execution_count": null,
   "metadata": {
    "executionInfo": {
     "elapsed": 3,
     "status": "ok",
     "timestamp": 1743676104431,
     "user": {
      "displayName": "forML",
      "userId": "00184597541824520416"
     },
     "user_tz": -540
    },
    "id": "2eeT2y6SiCqN"
   },
   "outputs": [],
   "source": [
    "# 評価関数を算出する関数(transformers.Trainerクラスをインスタンス化する時に使う)\n",
    "def compute_metric(pred):  # 引数predにはEvalPredictionオブジェクトが入る\n",
    "    answer = pred.label_ids  # EvalPredictionオブジェクト内のlabel_ids属性を取得(正解データの正解ラベルになる)\n",
    "    predict = pred.predictions.argmax(-1)  # EvalPredictionオブジェクト内のprediction属性でargmax(-1)を取得(推測データの推測結果になる)\n",
    "    precision_value, recall_value, f1_value, _ = metrics.precision_recall_fscore_support(y_true=answer,\n",
    "                                                                                         y_pred=predict,\n",
    "                                                                                         average=\"weighted\")\n",
    "    accuracy_value = metrics.accuracy_score(y_true=answer,\n",
    "                                            y_pred=predict)\n",
    "    return {\"accuracy\": accuracy_value,\n",
    "            \"recall\": recall_value,\n",
    "            \"precision\": precision_value,\n",
    "            \"f1\": f1_value}"
   ]
  },
  {
   "cell_type": "code",
   "execution_count": null,
   "metadata": {
    "executionInfo": {
     "elapsed": 4,
     "status": "ok",
     "timestamp": 1743676104474,
     "user": {
      "displayName": "forML",
      "userId": "00184597541824520416"
     },
     "user_tz": -540
    },
    "id": "MHh-2te8vt-b"
   },
   "outputs": [],
   "source": [
    "# 学習時のパラメータを設定(transformers.Trainerクラスをインスタンス化する時に使う)\n",
    "minibatch_size = 32\n",
    "training_args = transformers.TrainingArguments(output_dir=\".\",  # ファイルの出力先\n",
    "                                               run_name=\"training_for_BERT_finetuning\",\n",
    "                                               do_train=True,\n",
    "                                               do_eval=True,\n",
    "                                               eval_strategy=\"epoch\",  # 評価関数を計算するタイミング\n",
    "                                               logging_steps=tokenized_dataset_dict[\"train\"].num_rows//minibatch_size,  # ログを出すタイミング\n",
    "                                               log_level=\"error\",  # ログレベル\n",
    "                                               save_strategy=\"no\",  # チェックポイントを保存するタイミング\n",
    "                                               save_total_limit=None,  # チェックポイントを保存する数\n",
    "                                               label_names=[\"label\"],  # 正解ラベルのカラム名\n",
    "                                               learning_rate=2e-5,  # 学習率\n",
    "                                               weight_decay=0.01,  # 減衰率\n",
    "                                               per_device_train_batch_size=minibatch_size,  # 学習の時のミニバッチ数\n",
    "                                               per_device_eval_batch_size=minibatch_size,  # 検証の時のミニバッチ数\n",
    "                                               fp16=True,  # 16ビット計算\n",
    "                                               num_train_epochs=3,  # 学習エポック数\n",
    "                                               report_to=\"none\")  # trainメソッド時のYou must call wandb.init() before wandb.log()を防ぐため"
   ]
  },
  {
   "cell_type": "code",
   "execution_count": null,
   "metadata": {
    "executionInfo": {
     "elapsed": 1530,
     "status": "ok",
     "timestamp": 1743676106016,
     "user": {
      "displayName": "forML",
      "userId": "00184597541824520416"
     },
     "user_tz": -540
    },
    "id": "yYOdwGbK5Vdu"
   },
   "outputs": [],
   "source": [
    "# 学習のクラスでインスタンスを作成\n",
    "nn_model_trainer = transformers.Trainer(model=nn_model,\n",
    "                                        args=training_args,\n",
    "                                        compute_metrics=compute_metric,\n",
    "                                        train_dataset=tokenized_dataset_dict[\"train\"],\n",
    "                                        eval_dataset=tokenized_dataset_dict[\"validation\"],\n",
    "                                        processing_class=tokenizer)"
   ]
  },
  {
   "cell_type": "code",
   "execution_count": null,
   "metadata": {
    "executionInfo": {
     "elapsed": 195,
     "status": "ok",
     "timestamp": 1743676106210,
     "user": {
      "displayName": "forML",
      "userId": "00184597541824520416"
     },
     "user_tz": -540
    },
    "id": "c9NFL0vSUMVW"
   },
   "outputs": [],
   "source": [
    "# trainメソッドでHuggingFaceのAPIキーを求められないように事前にログイン\n",
    "login_success = login(token=HuggingFace_API_KEY)"
   ]
  },
  {
   "cell_type": "code",
   "execution_count": null,
   "metadata": {
    "colab": {
     "base_uri": "https://localhost:8080/",
     "height": 204
    },
    "executionInfo": {
     "elapsed": 404901,
     "status": "ok",
     "timestamp": 1743676514210,
     "user": {
      "displayName": "forML",
      "userId": "00184597541824520416"
     },
     "user_tz": -540
    },
    "id": "m-0JEAtPZzKb",
    "outputId": "0e2eeabd-0fb6-468f-cd40-ee9ac9341ec7"
   },
   "outputs": [],
   "source": [
    "# 学習\n",
    "nn_model_trainer.train()"
   ]
  },
  {
   "cell_type": "code",
   "execution_count": null,
   "metadata": {
    "colab": {
     "base_uri": "https://localhost:8080/",
     "height": 208
    },
    "executionInfo": {
     "elapsed": 696,
     "status": "ok",
     "timestamp": 1743676517184,
     "user": {
      "displayName": "forML",
      "userId": "00184597541824520416"
     },
     "user_tz": -540
    },
    "id": "3GCi3g0rHIcc",
    "outputId": "64331e60-3848-413c-f35f-02cfc5bc8c86"
   },
   "outputs": [],
   "source": [
    "# 検証データ(validデータ)でのaccuracyを確認\n",
    "valid_output = nn_model_trainer.predict(test_dataset=tokenized_dataset_dict[\"validation\"])  # validデータで推論\n",
    "valid_predict = np.argmax(a=valid_output.predictions[1],\n",
    "                          axis=1)  # 出力結果のpredictions属性のインデックス[1]に(時系列数, ラベル数)の行列がある\n",
    "print(\"推論結果：\", valid_predict)\n",
    "valid_answer = np.array(tokenized_dataset_dict[\"validation\"][\"label\"])\n",
    "print(\"正解：\", valid_answer)\n",
    "valid_accuracy_result = metrics.accuracy_score(y_true=valid_answer,\n",
    "                                               y_pred=valid_predict)\n",
    "print(\"Accuracy：\", valid_accuracy_result)"
   ]
  },
  {
   "cell_type": "code",
   "execution_count": null,
   "metadata": {
    "colab": {
     "base_uri": "https://localhost:8080/"
    },
    "executionInfo": {
     "elapsed": 7232,
     "status": "ok",
     "timestamp": 1743676526161,
     "user": {
      "displayName": "forML",
      "userId": "00184597541824520416"
     },
     "user_tz": -540
    },
    "id": "dwnAzjQGukKL",
    "outputId": "15dd1258-6f7f-403e-8978-bb9d1bba5984"
   },
   "outputs": [],
   "source": [
    "# 学習(Fine Tuning)したモデルを保存\n",
    "id2value = {}  # 分類対象のカラム(目的変数)のIDtoVALUEを保存\n",
    "value2id = {}  # 分類対象のカラム(目的変数)のVALUEtoIDを保存\n",
    "for i in range(tokenized_dataset_dict[\"train\"].features[\"label\"].num_classes):\n",
    "    id2value[i] = tokenized_dataset_dict[\"train\"].features[\"label\"].int2str(i)\n",
    "    value2id[tokenized_dataset_dict[\"train\"].features[\"label\"].int2str(i)] = i\n",
    "print(\"id2value：\", id2value, sep=\"\\n\")\n",
    "nn_model_trainer.model.config.id2label = id2value\n",
    "print(\"value2id：\", value2id, sep=\"\\n\")\n",
    "nn_model_trainer.model.config.label2id = value2id\n",
    "nn_model_trainer.save_model(output_dir=\".\")\n",
    "nn_model_trainer.save_state()"
   ]
  },
  {
   "cell_type": "markdown",
   "metadata": {
    "id": "0EFRlFBEZx4b"
   },
   "source": [
    "**FineTuningを行った後での文章分類**"
   ]
  },
  {
   "cell_type": "code",
   "execution_count": null,
   "metadata": {
    "executionInfo": {
     "elapsed": 276,
     "status": "ok",
     "timestamp": 1743676529104,
     "user": {
      "displayName": "forML",
      "userId": "00184597541824520416"
     },
     "user_tz": -540
    },
    "id": "2mHCavPWz45t"
   },
   "outputs": [],
   "source": [
    "# 学習(Fine Tuning)したモデルをロード\n",
    "fine_tuning_tokenizer = transformers.AutoTokenizer.from_pretrained(pretrained_model_name_or_path=\".\")\n",
    "fine_tuning_nn_model = transformers.AutoModelForSequenceClassification.from_pretrained(pretrained_model_name_or_path=\".\").to(DEVICE)"
   ]
  },
  {
   "cell_type": "code",
   "execution_count": null,
   "metadata": {
    "colab": {
     "base_uri": "https://localhost:8080/"
    },
    "executionInfo": {
     "elapsed": 3201,
     "status": "ok",
     "timestamp": 1743676535202,
     "user": {
      "displayName": "forML",
      "userId": "00184597541824520416"
     },
     "user_tz": -540
    },
    "id": "cs7Hx1oB1Ue2",
    "outputId": "bbb8e32d-7077-42d2-e101-d140ec572f0e"
   },
   "outputs": [],
   "source": [
    "# 推論(テストデータを対象にして予測)\n",
    "test_token_tensor = torch.LongTensor(np.array(tokenized_dataset_dict[\"test\"][\"input_ids\"])).to(DEVICE)\n",
    "test_attention_mask_tensor = torch.LongTensor(np.array(tokenized_dataset_dict[\"test\"][\"attention_mask\"])).to(DEVICE)\n",
    "with torch.no_grad():\n",
    "    # https://huggingface.co/docs/transformers/v4.50.0/ja/model_doc/bert#transformers.BertForSequenceClassification.forward\n",
    "    test_output = fine_tuning_nn_model(input_ids=test_token_tensor,\n",
    "                                       attention_mask=test_attention_mask_tensor)\n",
    "test_output_array = test_output.logits.to(\"cpu\").detach().numpy()  # 出力結果の属性logitsに行列もしくはテンソルがあって、それをcpu処理にして、gradを外して、numpyにする\n",
    "test_predict = np.argmax(a=test_output_array,\n",
    "                         axis=1)  # 予測したラベル\n",
    "print(\"推論結果：\", test_predict)\n",
    "test_answer = np.array(tokenized_dataset_dict[\"test\"][\"label\"])  # 正解ラベル\n",
    "print(\"正解：\", test_answer)\n",
    "test_accuracy_result = metrics.accuracy_score(y_true=test_answer,\n",
    "                                              y_pred=test_predict)\n",
    "print(\"Accuracy：\", test_accuracy_result)"
   ]
  },
  {
   "cell_type": "code",
   "execution_count": null,
   "metadata": {
    "id": "Gcm2KCAD7b6Z"
   },
   "outputs": [],
   "source": []
  }
 ],
 "metadata": {
  "accelerator": "GPU",
  "colab": {
   "authorship_tag": "ABX9TyMfa3wbt1VC28pBzRgSv7aq",
   "gpuType": "T4",
   "provenance": []
  },
  "kernelspec": {
   "display_name": "Python 3 (ipykernel)",
   "language": "python",
   "name": "python3"
  },
  "language_info": {
   "codemirror_mode": {
    "name": "ipython",
    "version": 3
   },
   "file_extension": ".py",
   "mimetype": "text/x-python",
   "name": "python",
   "nbconvert_exporter": "python",
   "pygments_lexer": "ipython3",
   "version": "3.11.5"
  }
 },
 "nbformat": 4,
 "nbformat_minor": 4
}
