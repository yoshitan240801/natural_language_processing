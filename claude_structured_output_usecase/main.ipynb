{
 "cells": [
  {
   "cell_type": "code",
   "execution_count": 1,
   "id": "e57f7846-1ccf-4b5d-bfd0-88120c578466",
   "metadata": {},
   "outputs": [],
   "source": [
    "import csv\n",
    "import datetime\n",
    "import dotenv\n",
    "import glob\n",
    "import json\n",
    "import os\n",
    "import pprint\n",
    "import time\n",
    "\n",
    "import boto3\n",
    "import pandas as pd"
   ]
  },
  {
   "cell_type": "code",
   "execution_count": 2,
   "id": "05a87861-aa01-4466-bcef-46708622b613",
   "metadata": {},
   "outputs": [],
   "source": [
    "dotenv.load_dotenv()\n",
    "CLAUDE_MODEL_ID = os.getenv(\"BEDROCK_CLAUDE_MODEL_ID\")\n",
    "CLAUDE_CLIENT = boto3.client(\"bedrock-runtime\", region_name=\"ap-northeast-1\")\n",
    "FUNCTION_CALLING_NAME = \"hogehoge\"\n",
    "FUNCTION_CALLING_DESCRIPTION = \"\"\"\n",
    "あなたはコンタクトセンターで音声通話テキストからお客様のニーズ(VOC)を把握する業務を10年以上行っている専門家です。\n",
    "与えられたテキストは過去の通話を記録したもので、CUはお客様を表し、OPはオペレータの発言になります。\n",
    "\"\"\"\n",
    "INPUT_DATA_PATH = \"複数行1列で音声通話テキストを保存しているcsvファイルのパス\"\n",
    "OUTPUT_FOLDER = \"出力結果のcsvファイルを保存するフォルダのパス\""
   ]
  },
  {
   "cell_type": "code",
   "execution_count": 3,
   "id": "9167baaa-be83-499d-8e46-648cfb34b62e",
   "metadata": {},
   "outputs": [],
   "source": [
    "NAME_1_IN_FUNCTION_CALLING = \"predict_positive_negative_by_LLM\"\n",
    "PROMPT_1_IN_FUNCTION_CALLING = \"会話はコンタクトセンターでの電話のやりとりです。この会話全体を通して、お客様の感情をポジティブかネガティブかを判定してください。\"\n",
    "NAME_2_IN_FUNCTION_CALLING = \"suggest_judge_reason_by_LLM\"\n",
    "PROMPT_2_IN_FUNCTION_CALLING = \"{a}の判定を行った理由を簡潔に出力してください。\".format(a=NAME_1_IN_FUNCTION_CALLING)\n",
    "NAME_3_IN_FUNCTION_CALLING = \"predict_customer_emotion_score_by_LLM\"\n",
    "PROMPT_3_IN_FUNCTION_CALLING = \"お客様の{a}の感情度を推測して数値で表してください。100を完全にポジティブ、0を完全にネガティブとします。(0-100)\".format(a=NAME_1_IN_FUNCTION_CALLING)"
   ]
  },
  {
   "cell_type": "code",
   "execution_count": 4,
   "id": "568fd400-120e-4c06-b33b-af7246c281f9",
   "metadata": {},
   "outputs": [],
   "source": [
    "def structured_output_tool():\n",
    "    return {\"toolSpec\": {\"name\": FUNCTION_CALLING_NAME,\n",
    "                         \"description\": FUNCTION_CALLING_DESCRIPTION,\n",
    "                         \"inputSchema\": {\"json\": {\"type\": \"object\",\n",
    "                                                  \"properties\": {NAME_1_IN_FUNCTION_CALLING: {\"type\": \"string\",\n",
    "                                                                                              \"enum\": [\"positive\", \"negative\"],\n",
    "                                                                                              \"description\": PROMPT_1_IN_FUNCTION_CALLING},\n",
    "                                                                 NAME_2_IN_FUNCTION_CALLING: {\"type\": \"string\",\n",
    "                                                                                              \"description\": PROMPT_2_IN_FUNCTION_CALLING},\n",
    "                                                                 NAME_3_IN_FUNCTION_CALLING: {\"type\": \"number\",\n",
    "                                                                                              \"description\": PROMPT_3_IN_FUNCTION_CALLING}\n",
    "                                                                },\n",
    "                                                  \"required\": [NAME_1_IN_FUNCTION_CALLING,\n",
    "                                                               NAME_2_IN_FUNCTION_CALLING,\n",
    "                                                               NAME_3_IN_FUNCTION_CALLING]\n",
    "                                                 }\n",
    "                                        }\n",
    "                        }\n",
    "           }\n",
    "\n",
    "\n",
    "def process_claude_with_function_calling(call_text_and_speaker):\n",
    "    prompt = \"\"\"\n",
    "    <text>\n",
    "    {a}\n",
    "    </text>\n",
    "    \"\"\".format(a=call_text_and_speaker)\n",
    "    claude_input_with_prompt = [{\"role\": \"user\",\n",
    "                                 \"content\": [{\"text\": prompt}]\n",
    "                                }]\n",
    "    claude_response = CLAUDE_CLIENT.converse(modelId=CLAUDE_MODEL_ID,\n",
    "                                             messages=claude_input_with_prompt,\n",
    "                                             inferenceConfig={\"temperature\": 0.2},\n",
    "                                             toolConfig={\"tools\": [structured_output_tool()],\n",
    "                                                         \"toolChoice\": {\"tool\": {\"name\": FUNCTION_CALLING_NAME}}\n",
    "                                                        })\n",
    "    result = claude_response[\"output\"][\"message\"][\"content\"][0][\"toolUse\"][\"input\"]\n",
    "    return result"
   ]
  },
  {
   "cell_type": "code",
   "execution_count": 24,
   "id": "7d24b400-fb7a-45dd-86c0-13ffd72d30ed",
   "metadata": {},
   "outputs": [],
   "source": [
    "def read_csv_file_and_inference_using_claude(csv_file_path):\n",
    "    call_text_and_speaker_list = []\n",
    "    predict_positive_negative_list = []\n",
    "    suggest_judge_reason_list = []\n",
    "    predict_customer_emotion_score_list = []\n",
    "    with open(file=csv_file_path, mode=\"r\", encoding=\"utf-8\") as csvfile:\n",
    "        csvfile_data_reader = csv.reader(csvfile)\n",
    "        next(csvfile_data_reader, None)  # 1行目のヘッダーをスキップする\n",
    "        for row in csvfile_data_reader:\n",
    "            if row:\n",
    "                predict_result = process_claude_with_function_calling(call_text_and_speaker=row[0])  # 音声通話テキスト(変数row)はlistだったので[0]を設定\n",
    "                call_text_and_speaker_list.append(row[0])\n",
    "                predict_positive_negative_list.append(predict_result[\"predict_positive_negative_by_LLM\"])\n",
    "                suggest_judge_reason_list.append(predict_result[\"suggest_judge_reason_by_LLM\"])\n",
    "                predict_customer_emotion_score_list.append(predict_result[\"predict_customer_emotion_score_by_LLM\"])\n",
    "                time.sleep(1)\n",
    "            else:\n",
    "                continue\n",
    "    df = pd.DataFrame(data={\"comment\": call_text_and_speaker_list,\n",
    "                            \"positive_negative\": predict_positive_negative_list,\n",
    "                            \"judge_reason\": suggest_judge_reason_list,\n",
    "                            \"customer_emotion_score\": predict_customer_emotion_score_list})\n",
    "    return df"
   ]
  },
  {
   "cell_type": "code",
   "execution_count": null,
   "id": "d91731fc-5831-4ffd-a818-127cfc5064af",
   "metadata": {},
   "outputs": [],
   "source": [
    "df = read_csv_file_and_inference_using_claude(csv_file_path=INPUT_DATA_PATH)\n",
    "if not os.path.exists(OUTPUT_FOLDER):\n",
    "    os.makedirs(OUTPUT_FOLDER)\n",
    "df.to_csv(path_or_buf=\"{a}/ファイル名.csv\".format(a=OUTPUT_FOLDER),\n",
    "          index=False,\n",
    "          encoding=\"utf-8\")"
   ]
  }
 ],
 "metadata": {
  "kernelspec": {
   "display_name": "tanaka_kernel(Python3-11)",
   "language": "python",
   "name": "tanaka_kernel"
  },
  "language_info": {
   "codemirror_mode": {
    "name": "ipython",
    "version": 3
   },
   "file_extension": ".py",
   "mimetype": "text/x-python",
   "name": "python",
   "nbconvert_exporter": "python",
   "pygments_lexer": "ipython3",
   "version": "3.11.13"
  }
 },
 "nbformat": 4,
 "nbformat_minor": 5
}
